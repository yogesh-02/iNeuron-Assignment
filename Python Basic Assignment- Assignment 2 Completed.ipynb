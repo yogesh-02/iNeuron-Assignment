{
 "cells": [
  {
   "cell_type": "markdown",
   "metadata": {},
   "source": [
    "### 1.What are the two values of the Boolean data type? How do you write them?"
   ]
  },
  {
   "cell_type": "markdown",
   "metadata": {},
   "source": [
    "There are two built-in Boolean data types in Python: __True or False__, and the Python type is Bool. These values are used in conditions, comparisons, and structures that require the representation of truth or falsehood.\n",
    "\n",
    "We can simply wrinte them as __True/Flase__"
   ]
  },
  {
   "cell_type": "markdown",
   "metadata": {},
   "source": [
    "### 2. What are the three different types of Boolean operators?"
   ]
  },
  {
   "cell_type": "markdown",
   "metadata": {},
   "source": [
    "Boolean Operations are simple arithmetic of True and False values. These values can be manipulated by the use of boolean operators which include AND, Or, and NOT. Common boolean operations are –\n",
    "\n",
    "__1. or__ :  It returns True if either of the operand right side or left side is True.\n",
    "\n",
    "__2. and__ : And operator – It returns True if both the operands right side and left side are True.\n",
    "\n",
    "__3. not__ :  It returns True if operand is false, and vica verca"
   ]
  },
  {
   "cell_type": "markdown",
   "metadata": {},
   "source": [
    "### 3. Make a list of each Boolean operator&#39;s truth tables (i.e. every possible combination of Boolean values for the operator and what it evaluate )."
   ]
  },
  {
   "cell_type": "markdown",
   "metadata": {},
   "source": [
    "Boolean opertor\n",
    "\n",
    "__AND__\n",
    "\n",
    "A  |B   |Output\n",
    "---|--- |---  \n",
    "0  |0   |0\n",
    "0  |1   |0\n",
    "1  |0   |0\n",
    "1  |1   |1\n",
    "\n",
    "\n",
    "__OR__\n",
    "\n",
    "A  |B   |Output\n",
    "---|--- |---  \n",
    "0  |0   |0\n",
    "0  |1   |1\n",
    "1  |0   |1\n",
    "1  |1   |1\n",
    "\n",
    "__NOT__\n",
    "\n",
    "A  |Output(A~)\n",
    "---|---  \n",
    "0  |1\n",
    "1  |0\n"
   ]
  },
  {
   "cell_type": "markdown",
   "metadata": {},
   "source": [
    "### 4. What are the values of the following expressions?\n",
    "(5 &gt; 4) and (3 == 5)\n",
    "not (5 &gt; 4)\n",
    "(5 &gt; 4) or (3 == 5)\n",
    "not ((5 &gt; 4) or (3 == 5))\n",
    "(True and True) and (True == False)\n",
    "(not False) or (not True)"
   ]
  },
  {
   "cell_type": "code",
   "execution_count": 1,
   "metadata": {},
   "outputs": [
    {
     "ename": "SyntaxError",
     "evalue": "invalid syntax (<ipython-input-1-7c493bb8a4ce>, line 1)",
     "output_type": "error",
     "traceback": [
      "\u001b[1;36m  File \u001b[1;32m\"<ipython-input-1-7c493bb8a4ce>\"\u001b[1;36m, line \u001b[1;32m1\u001b[0m\n\u001b[1;33m    (5 >4) and (3 == 5)* not(5 > 4)*(5>4) or (3 == 5) not ((5>4) or (3 == 5))*(True and True) and (True == False)*(not False) or (not True)\u001b[0m\n\u001b[1;37m                           ^\u001b[0m\n\u001b[1;31mSyntaxError\u001b[0m\u001b[1;31m:\u001b[0m invalid syntax\n"
     ]
    }
   ],
   "source": [
    "(5 >4) and (3 == 5)* not(5 > 4)*(5>4) or (3 == 5) not ((5>4) or (3 == 5))*(True and True) and (True == False)*(not False) or (not True)"
   ]
  },
  {
   "cell_type": "markdown",
   "metadata": {},
   "source": [
    "### 5. What are the six comparison operators?"
   ]
  },
  {
   "cell_type": "markdown",
   "metadata": {},
   "source": [
    "Operator           |\tDescription\tExample                            | Example\n",
    "---------------    |---------------------------------------------------|---------\n",
    "Equal-To (==)      |Decides whether the values are equal or not.       |a = 20, b = 20, a == b returns True\n",
    "Not-Equal-To(!=)   |Decides whether the values are unequal or not.     |a = 10, b = 12. a != b returns True\n",
    "Greater-Than (> )  |Decides whether the left-value is greater or not.  |a = 25, b = 10. a > b returns True\n",
    "Less-Than (< )     |Decides whether the left-value if lesser or not.   |a = 10, b = 25. a < b returns True\n",
    "Greater-Than-Equal-To(>=)|Decides whether the left-value is greater or equal to the right value or not.|a = 10, b = 10. a>=b returns True\n",
    "Less-Than-Equal-To (<= )|Decides whether the left-value is lesser or equal to the right value or not.|a = 34, b = 34. a <= b returns True"
   ]
  },
  {
   "cell_type": "markdown",
   "metadata": {},
   "source": [
    "### 6. How do you tell the difference between the equal to and assignment operators?Describe a condition and when you would use one."
   ]
  },
  {
   "cell_type": "markdown",
   "metadata": {},
   "source": [
    "__The equality operator (==) :__ is used to compare two values or expressions. It is used to compare numbers, strings, Boolean values, variables, objects, arrays, or functions. The result is TRUE if the expressions are equal and FALSE otherwise. \n",
    "\n",
    "Example: 1==1 >>>> will return \"True\""
   ]
  },
  {
   "cell_type": "code",
   "execution_count": 3,
   "metadata": {},
   "outputs": [
    {
     "data": {
      "text/plain": [
       "True"
      ]
     },
     "execution_count": 3,
     "metadata": {},
     "output_type": "execute_result"
    }
   ],
   "source": [
    "#Example\n",
    "1==1"
   ]
  },
  {
   "cell_type": "markdown",
   "metadata": {},
   "source": [
    "__The assignment operator (=) :__ is an  is used to assign the value on the right to the variable on the left.\n",
    "\n",
    "Example: Student_name=\"Ram\"  >>> will assign the string value \"Ram\" to variable name Student_name"
   ]
  },
  {
   "cell_type": "code",
   "execution_count": 4,
   "metadata": {},
   "outputs": [
    {
     "data": {
      "text/plain": [
       "'Ram'"
      ]
     },
     "execution_count": 4,
     "metadata": {},
     "output_type": "execute_result"
    }
   ],
   "source": [
    "Student_name=\"Ram\"\n",
    "Student_name"
   ]
  },
  {
   "cell_type": "markdown",
   "metadata": {},
   "source": [
    "### 7. Identify the three blocks in this code:"
   ]
  },
  {
   "cell_type": "markdown",
   "metadata": {},
   "source": [
    "spam = 0\n",
    "\n",
    "------first block------\n",
    "if spam == 10:\n",
    "print(&#39;eggs&#39;)\n",
    "\n",
    "\n",
    "------Second block------\n",
    "if spam &gt; 5:\n",
    "print(&#39;bacon&#39;)\n",
    "\n",
    "\n",
    "------Third block------\n",
    "else:\n",
    "print(&#39;ham&#39;)\n",
    "print(&#39;spam&#39;)\n",
    "print(&#39;spam&#39;)"
   ]
  },
  {
   "cell_type": "markdown",
   "metadata": {},
   "source": [
    "### 8. Write code that prints Hello if 1 is stored in spam, prints Howdy if 2 is stored in spam, and prints Greetings! if anything else is stored in spam."
   ]
  },
  {
   "cell_type": "code",
   "execution_count": 7,
   "metadata": {},
   "outputs": [
    {
     "name": "stdout",
     "output_type": "stream",
     "text": [
      "Enter the value2\n",
      "Howdy\n"
     ]
    }
   ],
   "source": [
    "spam=int(input(\"Enter the value\"))\n",
    "if spam==1:\n",
    "    print(\"Hello\")\n",
    "elif spam==2:\n",
    "    print(\"Howdy\")\n",
    "else:\n",
    "    print(\"Greetings\")"
   ]
  },
  {
   "cell_type": "markdown",
   "metadata": {},
   "source": [
    "### 9.If your programme is stuck in an endless loop, what keys you’ll press?"
   ]
  },
  {
   "cell_type": "markdown",
   "metadata": {},
   "source": [
    "If programme is stuck in an endless loop, we can press __ctrl+c__ to end the loop, or we can go to __kernel and then click Interrupt/Restart.__"
   ]
  },
  {
   "cell_type": "markdown",
   "metadata": {},
   "source": [
    "### 10. How can you tell the difference between break and continue?"
   ]
  },
  {
   "cell_type": "markdown",
   "metadata": {},
   "source": [
    "__break__\n",
    "1. It is used to terminate the enclosing loop like while, do-while, for, or switch statement where it is declared.\n",
    "\n",
    "2. It resumes control over the program until the end of the loop.\n",
    "\n",
    "3. It also helps with the flow of control outside the loop.\n",
    "\n",
    "\n",
    "\n",
    "\n",
    "__continue__\n",
    "1. It helps skip the remaining part of the loop.\n",
    "\n",
    "2. It continues to execute the next iteration.\n",
    "\n",
    "3. It causes early execution of the next iteration of the enclosing loop.\n",
    "\n",
    "\n",
    "\n"
   ]
  },
  {
   "cell_type": "markdown",
   "metadata": {},
   "source": [
    "### 11. In a for loop, what is the difference between range(10), range(0, 10), and range(0, 10, 1)?"
   ]
  },
  {
   "cell_type": "markdown",
   "metadata": {},
   "source": [
    "__range__ : Range is a built-in function that return an object that produces a sequence of integers from start (inclusive)\n",
    "to stop (exclusive) by step.\n",
    "\n",
    "range function has following parameters range(start, stop, step) \n",
    "\n",
    "start>>> start point\n",
    "\n",
    "stop>>> stop point\n",
    "\n",
    "step>>> increment\n",
    "\n",
    "__range(10)__>>> here 10 is stop point and by default 0 will be start point, thus range(10)=0,1,2,3,4,5,6,7,8,9\n",
    "\n",
    "__range(0,10)__>>> here 10 is stop point and and 0 is start point, thus range(0,10)=0,1,2,3,4,5,6,7,8,9\n",
    "\n",
    "__range(0,10,1)__>>> here 10 is stop point and and 0 is start point and 1 represent the increment thus range(0,10,1)=0,1,2,3,4,5,6,7,8,9"
   ]
  },
  {
   "cell_type": "code",
   "execution_count": 18,
   "metadata": {},
   "outputs": [
    {
     "data": {
      "text/plain": [
       "range(0, 10)"
      ]
     },
     "execution_count": 18,
     "metadata": {},
     "output_type": "execute_result"
    }
   ],
   "source": [
    "range(10)"
   ]
  },
  {
   "cell_type": "code",
   "execution_count": 19,
   "metadata": {},
   "outputs": [
    {
     "data": {
      "text/plain": [
       "range(0, 10)"
      ]
     },
     "execution_count": 19,
     "metadata": {},
     "output_type": "execute_result"
    }
   ],
   "source": [
    "range(0,10)"
   ]
  },
  {
   "cell_type": "code",
   "execution_count": 20,
   "metadata": {},
   "outputs": [
    {
     "data": {
      "text/plain": [
       "range(0, 10)"
      ]
     },
     "execution_count": 20,
     "metadata": {},
     "output_type": "execute_result"
    }
   ],
   "source": [
    "range(0,10,1)"
   ]
  },
  {
   "cell_type": "markdown",
   "metadata": {},
   "source": [
    "### 12. Write a short program that prints the numbers 1 to 10 using a for loop. Then write an equivalent program that prints the numbers 1 to 10 using a while loop."
   ]
  },
  {
   "cell_type": "code",
   "execution_count": 10,
   "metadata": {},
   "outputs": [
    {
     "name": "stdout",
     "output_type": "stream",
     "text": [
      "1\n",
      "2\n",
      "3\n",
      "4\n",
      "5\n",
      "6\n",
      "7\n",
      "8\n",
      "9\n",
      "10\n"
     ]
    }
   ],
   "source": [
    "#for loop for printing 1 to 10\n",
    "for i in range(1,11):\n",
    "    print(i)"
   ]
  },
  {
   "cell_type": "code",
   "execution_count": 13,
   "metadata": {},
   "outputs": [
    {
     "name": "stdout",
     "output_type": "stream",
     "text": [
      "1\n",
      "2\n",
      "3\n",
      "4\n",
      "5\n",
      "6\n",
      "7\n",
      "8\n",
      "9\n",
      "10\n"
     ]
    }
   ],
   "source": [
    "#while loop for printing 1 to 10\n",
    "i=1\n",
    "while i<=10:\n",
    "    print(i)\n",
    "    i=i+1"
   ]
  },
  {
   "cell_type": "markdown",
   "metadata": {},
   "source": [
    "### 13. If you had a function named bacon() inside a module named spam, how would you call it after importing spam?"
   ]
  },
  {
   "cell_type": "markdown",
   "metadata": {},
   "source": [
    "import spam as sp\n",
    "\n",
    "sp.bacon()\n",
    "\n",
    "\n",
    "here sp is alias for module name spam"
   ]
  }
 ],
 "metadata": {
  "kernelspec": {
   "display_name": "Python 3",
   "language": "python",
   "name": "python3"
  },
  "language_info": {
   "codemirror_mode": {
    "name": "ipython",
    "version": 3
   },
   "file_extension": ".py",
   "mimetype": "text/x-python",
   "name": "python",
   "nbconvert_exporter": "python",
   "pygments_lexer": "ipython3",
   "version": "3.7.4"
  }
 },
 "nbformat": 4,
 "nbformat_minor": 2
}
