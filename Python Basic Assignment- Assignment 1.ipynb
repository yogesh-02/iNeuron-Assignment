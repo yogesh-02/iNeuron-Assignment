{
 "cells": [
  {
   "cell_type": "markdown",
   "metadata": {},
   "source": [
    "### 1. In the below elements which of them are values or an expression? e.g.:- values can be integer or string and expressions will be mathematical operators."
   ]
  },
  {
   "cell_type": "markdown",
   "metadata": {},
   "source": [
    "S.No|Element|Details\n",
    "---|-------:|-------\n",
    " 1 | *      |Expression (Multiplication Operator)\n",
    " 2 |‘hello’ |Value (string)\n",
    " 3 |-87.8   |Value (Negative float)\n",
    " 4 |-       |Expression (Subtraction operator) \n",
    " 5 |/       |Expression (Division operator)\n",
    " 6 |+       |Expression (Addition operator)\n",
    " 7 |6       |Value (Positive int)"
   ]
  },
  {
   "cell_type": "markdown",
   "metadata": {},
   "source": [
    "### 2. What is the difference between string and variable?"
   ]
  },
  {
   "cell_type": "markdown",
   "metadata": {},
   "source": [
    "__String__: Python string is an ordered collection of characters which is used to represent and store the text-based information. It can be accessed from both directions: forward and backward. Characters are nothing but symbols. Some examples of strings are ‘Ram’, ‘Mathematics’, ‘Science’, ‘Python’ etc."
   ]
  },
  {
   "cell_type": "markdown",
   "metadata": {},
   "source": [
    "__Variable__: A variable can be referred as a memory location or address that is used to store a data, this data can be string, integer, float etc.  A variable is a memory address that can change, and when the memory address cannot change then that variable is known as a constant. Once a variable is stored, the space is allocated in memory.  Some examples of variables are:\n",
    "\n",
    "e.g. Student_name= ‘Ram’ <<<< here Student_name is a variable (memory location) where data ‘Ram’ (string datatype) is stored \n",
    "\n",
    "e.g. Item_price= [12,5,30] <<< <here Item_price is a variable where data [12,5,30] (list) is stored.\n"
   ]
  },
  {
   "cell_type": "markdown",
   "metadata": {},
   "source": [
    "### 3. Describe three different data types."
   ]
  },
  {
   "cell_type": "markdown",
   "metadata": {},
   "source": [
    "Python has data types such as numbers, lists, tuple, string, set, and dictionary. Some of them described below.\n",
    "\n",
    "__Numbers__ : The first data type in python is the number that has integers, float and complex data types defined as \"int\", \"float\", and \"complex\" classes. \n",
    "\n",
    "For e.g. 7 is a integer, 7.1 is a Float, x+7j is a complex number\n",
    "\n",
    "__List__: A Mutable, ordered sequence of elements separated by commas, which is enclosed within square brackets. We can access each element of list separatly using indexing.\n",
    "\n",
    "For e.g.: L1=[2,4,6,8] is a list\n",
    "\n",
    "\n",
    "__Tuple__: An immutable, ordered sequence of elements separated by commas, which is enclosed within round brackets. We can access each element of tuple separatly using indexing.\n",
    "\n",
    "For e.g.: T1=(2,4,6,8) is a list\n",
    "\n"
   ]
  },
  {
   "cell_type": "markdown",
   "metadata": {},
   "source": [
    "### 4. What is an expression made up of? What do all expressions do?"
   ]
  },
  {
   "cell_type": "markdown",
   "metadata": {},
   "source": [
    "__Expression__\n",
    "An expression is a combination of values, variables, operators, and calls to functions. Expressions need to be evaluated. If you ask Python to print an expression, the interpreter evaluates the expression and displays the result. For example _len_ is a built-in Python function that returns the number of characters in a string.\n",
    "Expressions always returns a value.\n",
    "Functions are also expressions. Even a non returning function will still return\n",
    "Functions are also expressions. Even a non returning function will still return value, so it is an expression.\n",
    "Can print the result value\n",
    "\n",
    "Examples Of Python Expressions: “Hello” + “World”, 4 + 5 etc."
   ]
  },
  {
   "cell_type": "markdown",
   "metadata": {},
   "source": [
    "### 5. This assignment statements, like spam = 10. What is the difference between an expression and a statement?"
   ]
  },
  {
   "cell_type": "markdown",
   "metadata": {},
   "source": [
    "A Python expression can be defined as any element in our program that evaluates to some value.\n",
    "\n",
    "An expression evaluates to a value. A statement does something. Statements represent an action or command e.g print statements, assignment statements. Expression is a combination of variables, operations and values that yields a result value.\n",
    "\n",
    "An expression is a combination of values, variables, operators, and calls to functions. Expressions need to be evaluated. If you ask Python to print an expression, the interpreter evaluates the expression and displays the result.\n",
    "\n",
    "\n",
    "__Expression Vs Statement__\n",
    "\n",
    "__Expression__\n",
    "Expressions always returns a value\n",
    "Functions are also expressions. Even a non returning function will still return\n",
    "Functions are also expressions. Even a non returning function will still return value, so it is an expression.\n",
    "Can print the result value\n",
    "\n",
    "Examples Of Python Expressions: “Hello” + “World”, 4 + 5 etc.\n",
    "\n",
    "\n",
    "__Statement__\n",
    "A statement never returns a value\n",
    "Cannot print any result\n",
    "\n",
    "Examples Of Python Statements: Assignment statements, conditional branching, loops, classes, import, def, print, except, pass, del etc\n"
   ]
  },
  {
   "cell_type": "markdown",
   "metadata": {},
   "source": [
    "### 6. After running the following code, what does the variable bacon contain?\n",
    "bacon = 22\n",
    "\n",
    "bacon + 1\n"
   ]
  },
  {
   "cell_type": "markdown",
   "metadata": {},
   "source": [
    "bacon = 22 <<<< bacon will still contains the same data i.e. 22"
   ]
  },
  {
   "cell_type": "markdown",
   "metadata": {},
   "source": [
    "### 7. What should the values of the following two terms be?"
   ]
  },
  {
   "cell_type": "markdown",
   "metadata": {},
   "source": [
    "'spam'+'spamspam' = 'spamspamspam'\n",
    "\n",
    "'spam'*3          = 'spamspamspam'"
   ]
  },
  {
   "cell_type": "markdown",
   "metadata": {},
   "source": [
    "### 8. Why is eggs a valid variable name while 100 is invalid?"
   ]
  },
  {
   "cell_type": "markdown",
   "metadata": {},
   "source": [
    "In Python we have certain set of rules when defining a Variable, and one of that rule is __Variable name must not have any numeric value or special character in start__, we can have any character like a to z when naming the variable.\n",
    "\n",
    "__Rules for naming Variables in python__\n",
    "\n",
    "A variable name must start with a letter or the underscore character\n",
    "\n",
    "A variable name cannot start with a number\n",
    "\n",
    "A variable name can only contain alpha-numeric characters and underscores (A-z, 0-9, and _ )\n",
    "\n",
    "Variable names are case-sensitive (age, Age and AGE are three different variables)\n",
    "\n",
    "And that is why eggs is a valid variable name but 100 is not."
   ]
  }
 ],
 "metadata": {
  "kernelspec": {
   "display_name": "Python 3",
   "language": "python",
   "name": "python3"
  },
  "language_info": {
   "codemirror_mode": {
    "name": "ipython",
    "version": 3
   },
   "file_extension": ".py",
   "mimetype": "text/x-python",
   "name": "python",
   "nbconvert_exporter": "python",
   "pygments_lexer": "ipython3",
   "version": "3.7.4"
  }
 },
 "nbformat": 4,
 "nbformat_minor": 2
}
