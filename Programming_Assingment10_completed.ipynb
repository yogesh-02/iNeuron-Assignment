{
 "cells": [
  {
   "cell_type": "markdown",
   "metadata": {},
   "source": [
    "### 1.\tWrite a Python program to find sum of elements in list?"
   ]
  },
  {
   "cell_type": "code",
   "execution_count": 6,
   "metadata": {},
   "outputs": [
    {
     "name": "stdout",
     "output_type": "stream",
     "text": [
      "45\n",
      "45\n"
     ]
    }
   ],
   "source": [
    "L = [1, 2, 3, 4, 5, 6, 7, 8, 9]\n",
    "\n",
    "#first method using default method\n",
    "print(sum(L))\n",
    "\n",
    "#Second method using for loop method\n",
    "add = 0\n",
    "for i in L:\n",
    "    add=add +i\n",
    "print(add)"
   ]
  },
  {
   "cell_type": "markdown",
   "metadata": {},
   "source": [
    "### 2.\tWrite a Python program to  Multiply all numbers in the list?"
   ]
  },
  {
   "cell_type": "code",
   "execution_count": 8,
   "metadata": {},
   "outputs": [
    {
     "name": "stdout",
     "output_type": "stream",
     "text": [
      "120\n"
     ]
    }
   ],
   "source": [
    "L1 = [4, 5, 6]\n",
    "\n",
    "#multiply using for loop\n",
    "multi = 1\n",
    "for i in L1:\n",
    "    multi =  multi * i\n",
    "print(multi)"
   ]
  },
  {
   "cell_type": "markdown",
   "metadata": {},
   "source": [
    "### 3.\tWrite a Python program to find smallest number in a list?"
   ]
  },
  {
   "cell_type": "code",
   "execution_count": 15,
   "metadata": {},
   "outputs": [
    {
     "name": "stdout",
     "output_type": "stream",
     "text": [
      "-9\n",
      "-9\n"
     ]
    }
   ],
   "source": [
    "L3 = [-1, 2, 3, 4, 5, 6, 7, 8, -9]\n",
    "\n",
    "# using default min method\n",
    "print(min(L3))\n",
    "\n",
    "# using for loop and if-else statement\n",
    "smallest = None\n",
    "for i in L3:\n",
    "    if smallest is None:\n",
    "        smallest = i\n",
    "    elif i < smallest:\n",
    "        smallest = i\n",
    "    else:\n",
    "        continue\n",
    "print(smallest)"
   ]
  },
  {
   "cell_type": "markdown",
   "metadata": {},
   "source": [
    "### 4.\tWrite a Python program to find largest number in a list?"
   ]
  },
  {
   "cell_type": "code",
   "execution_count": 16,
   "metadata": {},
   "outputs": [
    {
     "name": "stdout",
     "output_type": "stream",
     "text": [
      "8\n",
      "8\n"
     ]
    }
   ],
   "source": [
    "L3 = [-1, 2, 3, 4, 5, 6, 7, 8, -9]\n",
    "\n",
    "# using default min method\n",
    "print(max(L3))\n",
    "\n",
    "# using for loop and if-else statement\n",
    "largest = None\n",
    "for i in L3:\n",
    "    if largest is None:\n",
    "        largest = i\n",
    "    elif i > largest:\n",
    "        largest = i\n",
    "    else:\n",
    "        continue\n",
    "print(largest)"
   ]
  },
  {
   "cell_type": "markdown",
   "metadata": {},
   "source": [
    "### 5.\tWrite a Python program to find second largest number in a list?"
   ]
  },
  {
   "cell_type": "code",
   "execution_count": 29,
   "metadata": {},
   "outputs": [
    {
     "name": "stdout",
     "output_type": "stream",
     "text": [
      "7\n"
     ]
    }
   ],
   "source": [
    "L3 = [-1, 2, 3, 4, 5, 6, 7, 8, -9]\n",
    "\n",
    "L4 = L3\n",
    "L4.sort(reverse=True)\n",
    "#second largest no\n",
    "print(L4[1])"
   ]
  },
  {
   "cell_type": "markdown",
   "metadata": {},
   "source": [
    "### 6.\tWrite a Python program to find N largest elements from a list?"
   ]
  },
  {
   "cell_type": "code",
   "execution_count": 40,
   "metadata": {},
   "outputs": [
    {
     "name": "stdout",
     "output_type": "stream",
     "text": [
      "Enter the N: 3\n",
      "[8, 7, 6]\n"
     ]
    }
   ],
   "source": [
    "L3 = [-1, 2, 3, 4, 5, 6, 7, 8, -9]\n",
    "\n",
    "L4 = L3\n",
    "L4.sort(reverse=True)\n",
    "#second largest no\n",
    "N = int(input(\"Enter the N: \"))\n",
    "print(L4[0:N])"
   ]
  },
  {
   "cell_type": "markdown",
   "metadata": {},
   "source": [
    "### 7.\tWrite a Python program to print even numbers in a list?"
   ]
  },
  {
   "cell_type": "code",
   "execution_count": 67,
   "metadata": {},
   "outputs": [
    {
     "name": "stdout",
     "output_type": "stream",
     "text": [
      "[0, 2, 4, 6, 8, 10, 12, 14, 16, 18, 20, 22, 24, 26, 28]\n",
      "[0, 2, 4, 6, 8, 10, 12, 14, 16, 18, 20, 22, 24, 26, 28]\n"
     ]
    }
   ],
   "source": [
    "#Using List comprehensions \n",
    "even1 = [x for x in range(30) if x%2 == 0]\n",
    "print(even1)\n",
    "\n",
    "#using for loop and if statement\n",
    "\n",
    "even2 = []\n",
    "for i in range(30):\n",
    "    if i%2==0:\n",
    "        even2.append(i)\n",
    "print(even2)"
   ]
  },
  {
   "cell_type": "markdown",
   "metadata": {},
   "source": [
    "### 8.\tWrite a Python program to print odd numbers in a List?"
   ]
  },
  {
   "cell_type": "code",
   "execution_count": 68,
   "metadata": {},
   "outputs": [
    {
     "name": "stdout",
     "output_type": "stream",
     "text": [
      "[1, 3, 5, 7, 9, 11, 13, 15, 17, 19, 21, 23, 25, 27, 29]\n",
      "[1, 3, 5, 7, 9, 11, 13, 15, 17, 19, 21, 23, 25, 27, 29]\n"
     ]
    }
   ],
   "source": [
    "#Using List comprehensions \n",
    "odd1 = [x for x in range(30) if x%2 != 0]\n",
    "print(odd1)\n",
    "\n",
    "#using for loop and if statement\n",
    "\n",
    "odd2 = []\n",
    "for i in range(30):\n",
    "    if i%2!=0:\n",
    "        odd2.append(i)\n",
    "print(odd2)"
   ]
  },
  {
   "cell_type": "markdown",
   "metadata": {},
   "source": [
    "### 9.\tWrite a Python program to Remove empty List from List?"
   ]
  },
  {
   "cell_type": "code",
   "execution_count": 78,
   "metadata": {},
   "outputs": [
    {
     "name": "stdout",
     "output_type": "stream",
     "text": [
      "[1, 2, 3, 4, [1, 3, 4]]\n"
     ]
    }
   ],
   "source": [
    "L5 = [1,2,3,4,[],[1,3,4]]\n",
    "for i in L5:\n",
    "    if type(i)== list and len(i) == 0:\n",
    "        L5.remove(i)\n",
    "        print(L5)\n",
    "        "
   ]
  },
  {
   "cell_type": "markdown",
   "metadata": {},
   "source": [
    "### 10.\tWrite a Python program to Cloning or Copying a list?"
   ]
  },
  {
   "cell_type": "code",
   "execution_count": 85,
   "metadata": {},
   "outputs": [],
   "source": [
    "L6 = [\"The original list\"]"
   ]
  },
  {
   "cell_type": "code",
   "execution_count": 86,
   "metadata": {},
   "outputs": [
    {
     "name": "stdout",
     "output_type": "stream",
     "text": [
      "['The original list']\n"
     ]
    }
   ],
   "source": [
    "L6_copy = L6[:]\n",
    "print(L6_copy)"
   ]
  },
  {
   "cell_type": "markdown",
   "metadata": {},
   "source": [
    "### 11.\tWrite a Python program to Count occurrences of an element in a list?"
   ]
  },
  {
   "cell_type": "code",
   "execution_count": 84,
   "metadata": {},
   "outputs": [
    {
     "data": {
      "text/plain": [
       "3"
      ]
     },
     "execution_count": 84,
     "metadata": {},
     "output_type": "execute_result"
    }
   ],
   "source": [
    "L7 = [ 1,2,2,2,3,4,5,6]\n",
    "L7.count(2)  #this will count the occurrences of element \"2\""
   ]
  }
 ],
 "metadata": {
  "kernelspec": {
   "display_name": "Python 3",
   "language": "python",
   "name": "python3"
  },
  "language_info": {
   "codemirror_mode": {
    "name": "ipython",
    "version": 3
   },
   "file_extension": ".py",
   "mimetype": "text/x-python",
   "name": "python",
   "nbconvert_exporter": "python",
   "pygments_lexer": "ipython3",
   "version": "3.7.4"
  }
 },
 "nbformat": 4,
 "nbformat_minor": 2
}
