{
 "cells": [
  {
   "cell_type": "markdown",
   "metadata": {},
   "source": [
    "### 1.\tWrite a Python program to find words which are greater than given length k?"
   ]
  },
  {
   "cell_type": "code",
   "execution_count": 5,
   "metadata": {},
   "outputs": [
    {
     "name": "stdout",
     "output_type": "stream",
     "text": [
      "Enter the length of the word:\t5\n",
      "Second\n",
      "Fourth\n"
     ]
    }
   ],
   "source": [
    "words= [\"First\",\"Second\",\"Third\",\"Fourth\",\"last\"]\n",
    "length=int(input(\"Enter the length of the word:\\t\"))\n",
    "for word in words:\n",
    "    if len(word) > length:\n",
    "        print(word)"
   ]
  },
  {
   "cell_type": "markdown",
   "metadata": {},
   "source": [
    "### 2.\tWrite a Python program for removing i-th character from a string?"
   ]
  },
  {
   "cell_type": "code",
   "execution_count": 12,
   "metadata": {},
   "outputs": [
    {
     "name": "stdout",
     "output_type": "stream",
     "text": [
      "Enter the value of n:\t2\n",
      "Ths s a practce strng\n"
     ]
    }
   ],
   "source": [
    "string = \"This is a practice string\"\n",
    "n = int(input(\"Enter the value of n:\\t\"))\n",
    "new_string = string.replace(string[n],\"\")\n",
    "print(new_string)"
   ]
  },
  {
   "cell_type": "markdown",
   "metadata": {},
   "source": [
    "### 3.\tWrite a Python program to split and join a string?"
   ]
  },
  {
   "cell_type": "code",
   "execution_count": 15,
   "metadata": {},
   "outputs": [
    {
     "data": {
      "text/plain": [
       "['We can split any ', 'tring from anywhere']"
      ]
     },
     "execution_count": 15,
     "metadata": {},
     "output_type": "execute_result"
    }
   ],
   "source": [
    "string = \"We can split any String from anywhere\"\n",
    "l1= string.split(\"S\")\n",
    "l1"
   ]
  },
  {
   "cell_type": "code",
   "execution_count": 20,
   "metadata": {},
   "outputs": [
    {
     "data": {
      "text/plain": [
       "'We can split any tring from anywhere and we can also join it'"
      ]
     },
     "execution_count": 20,
     "metadata": {},
     "output_type": "execute_result"
    }
   ],
   "source": [
    "l1[0] + l1[1] + \" and we can also join it\""
   ]
  },
  {
   "cell_type": "markdown",
   "metadata": {},
   "source": [
    "### 4.\tWrite a Python to check if a given string is binary string or not?"
   ]
  },
  {
   "cell_type": "code",
   "execution_count": 23,
   "metadata": {},
   "outputs": [
    {
     "name": "stdout",
     "output_type": "stream",
     "text": [
      "String1 is a binary string.\n",
      "String2 is not a binary string.\n"
     ]
    }
   ],
   "source": [
    "string1 = '0110101010111'\n",
    "b = {'0','1'}\n",
    "t = set(string1)\n",
    "\n",
    "if b == t or t == {'0'} or t == {'1'}:\n",
    "    print(\"String1 is a binary string.\")\n",
    "else:\n",
    "    print(\"String1 is not a binary string.\")\n",
    "\n",
    "string2 = '0120101010111'\n",
    "u = set(string2)\n",
    "\n",
    "if b == u or u == {'0'} or u == {'1'}:\n",
    "    print(\"String2 is a binary string.\")\n",
    "else:\n",
    "    print(\"String2 is not a binary string.\")"
   ]
  },
  {
   "cell_type": "markdown",
   "metadata": {},
   "source": [
    "### 5.\tWrite a Python program to find uncommon words from two Strings?"
   ]
  },
  {
   "cell_type": "code",
   "execution_count": 15,
   "metadata": {},
   "outputs": [],
   "source": [
    "def uncommon_word():\n",
    "    \"\"\"This program takes 2 lines and returns the unique words in list form\"\"\"\n",
    "    line1 = input(\"Enter the first line:\\t\")\n",
    "    line2 = input(\"Enter the second line:\\t\")\n",
    "    list1 = line1.split(\" \")\n",
    "    list2 = line2.split(\" \")\n",
    "    uncm_words = []\n",
    "    for word in list1:\n",
    "        if word not in list2:\n",
    "            uncm_words.append(word)\n",
    "    return uncm_words"
   ]
  },
  {
   "cell_type": "code",
   "execution_count": 16,
   "metadata": {
    "scrolled": true
   },
   "outputs": [
    {
     "name": "stdout",
     "output_type": "stream",
     "text": [
      "Enter the first line:\tthis is first line\n",
      "Enter the second line:\tthis is second line\n"
     ]
    },
    {
     "data": {
      "text/plain": [
       "['first']"
      ]
     },
     "execution_count": 16,
     "metadata": {},
     "output_type": "execute_result"
    }
   ],
   "source": [
    "uncommon_word()"
   ]
  },
  {
   "cell_type": "markdown",
   "metadata": {},
   "source": [
    "### 6.\tWrite a Python to find all duplicate characters in string?"
   ]
  },
  {
   "cell_type": "code",
   "execution_count": 18,
   "metadata": {},
   "outputs": [
    {
     "name": "stdout",
     "output_type": "stream",
     "text": [
      "Enter the string:\ttaasfasfasdfasdfasd\n",
      "['a', 'f', 'd', 's']\n"
     ]
    }
   ],
   "source": [
    "string = input(\"Enter the string:\\t\")\n",
    "duplicate = []\n",
    "for char in string:\n",
    "    if string.count(char) > 1:\n",
    "        duplicate.append(char)\n",
    "duplicate_set = set(duplicate)\n",
    "duplicate = list(duplicate_set)\n",
    "print(duplicate)\n",
    "        "
   ]
  },
  {
   "cell_type": "markdown",
   "metadata": {},
   "source": [
    "### 7.\tWrite a Python Program to check if a string contains any special character?"
   ]
  },
  {
   "cell_type": "code",
   "execution_count": 7,
   "metadata": {},
   "outputs": [
    {
     "name": "stdout",
     "output_type": "stream",
     "text": [
      "Enter any string: ^\n",
      "The string contains special characters.\n"
     ]
    }
   ],
   "source": [
    "import re\n",
    "string = input('Enter any string: ')\n",
    " \n",
    "# special characters\n",
    "special_char = re.compile('[@_!#$%^&*()<>?/\\|}{~:]')\n",
    "\n",
    "# check string contains special characters or not\n",
    "if(special_char.search(string) == None):\n",
    "    print('String does not contain any special characters.')\n",
    "else:\n",
    "    print('The string contains special characters.')"
   ]
  },
  {
   "cell_type": "code",
   "execution_count": null,
   "metadata": {},
   "outputs": [],
   "source": []
  }
 ],
 "metadata": {
  "kernelspec": {
   "display_name": "Python 3",
   "language": "python",
   "name": "python3"
  },
  "language_info": {
   "codemirror_mode": {
    "name": "ipython",
    "version": 3
   },
   "file_extension": ".py",
   "mimetype": "text/x-python",
   "name": "python",
   "nbconvert_exporter": "python",
   "pygments_lexer": "ipython3",
   "version": "3.7.4"
  }
 },
 "nbformat": 4,
 "nbformat_minor": 2
}
